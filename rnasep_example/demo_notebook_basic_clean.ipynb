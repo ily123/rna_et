{
 "cells": [
  {
   "cell_type": "markdown",
   "metadata": {},
   "source": [
    "                            ## SEQUENCE ANALYSIS DEMO ##\n",
    "                            (INSIGHT TECHNICAL 7/22/2019)"
   ]
  },
  {
   "cell_type": "markdown",
   "metadata": {},
   "source": [
    "### Basic problem:\n",
    "\n",
    "You are studying a molecule is involved in disease. You would like to create a drug that disrupt's the molecule's function and cures the disease. To solve this problem, you first need to understand how the molecule works. **In turn, to understand how a molecule works, you need to find individual residues that contribute to function.**\n",
    "\n",
    "### Classic wet-lab solution to this problem is slow:\n",
    "\n",
    "1. Mutate the molecule by changing one of its residues\n",
    "2. Isolate the mutated molecule\n",
    "3. Subject the mutated molecule to a fitness test - is this one residue critical to function?\n",
    "4. Repeat for every residue\n",
    "\n",
    "One residue takes days to weeks, assuming it even works (mutant may not purify, there may be no functional assay, etc).\n",
    "\n",
    "### The alternative solution is comparative analysis of related molecules:\n",
    "\n",
    "1. Any given molecule has relatives (homologs) in other species.\n",
    "2. Find residues that stay the same in each homolog (are conserved), versus those that change.\n",
    "3. Residues that stay the same are probably the ones responsible for the fundamental function -- **TEST THEM FIRST!!!**\n"
   ]
  },
  {
   "cell_type": "markdown",
   "metadata": {},
   "source": [
    "                            ## SEQUENCE ANALYSIS DEMO ##\n",
    "                            (INSIGHT TECHNICAL 7/22/2019)"
   ]
  },
  {
   "cell_type": "markdown",
   "metadata": {},
   "source": [
    "## Sample case study - RNAse P\n",
    "1. Responsible for processing of tRNAs (molecules that shuffle amino acids to the ribosome)<br>\n",
    "2. Involved in human disease (form of dwarfism)<br>\n",
    "\n",
    "#### Goal: find functional sites in RNAse P using comparative sequence analysis"
   ]
  },
  {
   "cell_type": "code",
   "execution_count": null,
   "metadata": {
    "collapsed": true
   },
   "outputs": [],
   "source": [
    "addpath '../code_matlab/'"
   ]
  },
  {
   "cell_type": "markdown",
   "metadata": {
    "collapsed": false
   },
   "source": [
    "### Fetch the molecule of interest from Protein Data Bank"
   ]
  },
  {
   "cell_type": "code",
   "execution_count": null,
   "metadata": {
    "collapsed": false
   },
   "outputs": [],
   "source": [
    "structure = getpdb('3q1q');"
   ]
  },
  {
   "cell_type": "code",
   "execution_count": null,
   "metadata": {
    "collapsed": false
   },
   "outputs": [],
   "source": [
    "structure.Model(1).Atom(1)"
   ]
  },
  {
   "cell_type": "markdown",
   "metadata": {},
   "source": [
    "### Display the structure"
   ]
  },
  {
   "cell_type": "code",
   "execution_count": null,
   "metadata": {
    "collapsed": false
   },
   "outputs": [],
   "source": [
    "%plot native\n",
    "%molviewer(structure) %Jmol - built into MATLAB\n",
    "\n",
    "% USE PYMOL"
   ]
  },
  {
   "cell_type": "markdown",
   "metadata": {},
   "source": [
    "### Load/find/make alignment of RNAse P homologs\n",
    "Option 1 - BLAST<br>\n",
    "Option 2 - premade INFERNAL alignments on Rfam<br>"
   ]
  },
  {
   "cell_type": "code",
   "execution_count": null,
   "metadata": {
    "collapsed": false
   },
   "outputs": [],
   "source": [
    "%plot inline\n",
    "% load alignment\n",
    "aln_fp = 'input_data/RF00010.msf';\n",
    "aln = multialignread(aln_fp);\n",
    "aln"
   ]
  },
  {
   "cell_type": "code",
   "execution_count": null,
   "metadata": {
    "collapsed": true
   },
   "outputs": [],
   "source": [
    "%aln(1).Header\n",
    "%aln(1).Sequence\n",
    "%aln(2).Sequence"
   ]
  },
  {
   "cell_type": "code",
   "execution_count": null,
   "metadata": {
    "collapsed": true
   },
   "outputs": [],
   "source": [
    "seqalignviewer(aln)"
   ]
  },
  {
   "cell_type": "markdown",
   "metadata": {},
   "source": [
    "### Clean the aligment\n",
    "1. Remove overly long (duplicates) or short sequences (fragments)\n",
    "2. Remove non-standard characters"
   ]
  },
  {
   "cell_type": "code",
   "execution_count": null,
   "metadata": {
    "collapsed": false
   },
   "outputs": [],
   "source": [
    "addpath '../code_matlab/'\n",
    "seq_len = structure.Sequence(1).NumOfResidues;\n",
    "[clean_aln, ~] = clean_alignment(aln, seq_len);\n",
    "clean_aln"
   ]
  },
  {
   "cell_type": "code",
   "execution_count": null,
   "metadata": {
    "collapsed": false
   },
   "outputs": [],
   "source": [
    "seqalignviewer(clean_aln)"
   ]
  },
  {
   "cell_type": "markdown",
   "metadata": {},
   "source": [
    "### Profile 3Q1Q query sequence to alignment"
   ]
  },
  {
   "cell_type": "code",
   "execution_count": null,
   "metadata": {
    "collapsed": false
   },
   "outputs": [],
   "source": [
    "atoms = struct2table(structure.Model(1).Atom);\n",
    "chain = 'B';\n",
    "format_flag = 'pdb';\n",
    "[~,pdb_res,pdb_seq_prof,~] = profile_pdbcif_chain_to_aln(clean_aln,...\n",
    "                                  atoms, chain, format_flag);\n",
    "% add profiled sequence to alignment\n",
    "nseq = length(clean_aln);\n",
    "clean_aln(nseq+1).Sequence = pdb_seq_prof;\n",
    "clean_aln(nseq+1).Header = 'pdb_query';"
   ]
  },
  {
   "cell_type": "code",
   "execution_count": null,
   "metadata": {
    "collapsed": false
   },
   "outputs": [],
   "source": [
    "clean_aln\n",
    "seqalignviewer(clean_aln)"
   ]
  },
  {
   "cell_type": "markdown",
   "metadata": {},
   "source": [
    "### Calculate conservation (information entropy) of each column in the aligment\n",
    "\n",
    "\\begin{equation*}\n",
    "r_{i}= -\\sum_{a=1}^{n}f_{a}ln(f_{a})\n",
    "\\end{equation*}\n",
    "\n",
    "Column $i$ featuring 10 bases that are:<br>\n",
    "entirely conserved ($f_{1} = 1$) will produce $r_{i}=0$<br>\n",
    "has even split between 2 bases ($f_{1} = f_{2} = 0.5$) will produce $r_{i}=xyz$<br>\n",
    "is split between 10 uniuqe bases ($f_{1},.,f_{n} =0.1$) will produce $r_{i}=xyz$<br>\n",
    "\n"
   ]
  },
  {
   "cell_type": "code",
   "execution_count": null,
   "metadata": {
    "collapsed": false
   },
   "outputs": [],
   "source": [
    "int_aln = format_sequence(clean_aln);\n",
    "entropy_scores = calculate_entropy(int_aln);\n",
    "result = [pdb_res, entropy_scores];\n",
    "\n",
    "%convert entropy ranks to percentile/threshold ranks\n",
    "coverage = [];\n",
    "for i=1:length(entropy_scores)\n",
    "    at_or_below_rank = sum(entropy_scores <= entropy_scores(i));\n",
    "    coverage = [coverage; at_or_below_rank/length(entropy_scores)];\n",
    "end\n",
    "result = [result, coverage];\n",
    "result_table = array2table(result, 'VariableNames',...\n",
    "                           {'pdb_res', 'raw_rank', 'coverage'});\n",
    "\n",
    "fp = 'data/rnasep_sample_ranks.csv';\n",
    "csvwrite(fp,result);"
   ]
  },
  {
   "cell_type": "markdown",
   "metadata": {},
   "source": [
    "### Map $r_{i}$ over linear sequence of RNAse P\n",
    "\n",
    "Pattern 1: bases clearly have different distributions"
   ]
  },
  {
   "cell_type": "code",
   "execution_count": null,
   "metadata": {
    "collapsed": false
   },
   "outputs": [],
   "source": [
    "hold on;\n",
    "plot(pdb_res, entropy_scores, 'black');\n",
    "%plot(pdb_res, movmean(entropy_scores,10), 'red')\n",
    "ylabel('entropy score')\n",
    "xlabel('position in sequence')\n",
    "hold off;"
   ]
  },
  {
   "cell_type": "markdown",
   "metadata": {},
   "source": [
    "### Map $r_{i}$ over 3D structure\n",
    "\n",
    "--show in pymol\n",
    "\n",
    "Pattern 2: top-ranked bases cluster in 3D space"
   ]
  },
  {
   "cell_type": "markdown",
   "metadata": {},
   "source": [
    "### Measure statistical significance of clustering\n",
    "\n",
    "1. Convert 3D representation into an adjacency matrix\n",
    "2. Calculate expected number of contact pairs vs rank threshold\n",
    "3. Calculate observed number of contact pairs vs rank threshold\n",
    "4. Convert to z-score"
   ]
  },
  {
   "cell_type": "code",
   "execution_count": null,
   "metadata": {
    "collapsed": false
   },
   "outputs": [],
   "source": [
    "% convert 3D atom structure into an adjacency matrix\n",
    "[adj_matrix, seq_table] = pdbtable2distmatrix(atoms, chain); %4A"
   ]
  },
  {
   "cell_type": "code",
   "execution_count": null,
   "metadata": {
    "collapsed": false
   },
   "outputs": [],
   "source": [
    "%plot inline\n",
    "image(adj_matrix, 'CDataMapping','scaled')\n",
    "xlabel('residue i')\n",
    "ylabel('residue j')"
   ]
  },
  {
   "cell_type": "code",
   "execution_count": null,
   "metadata": {
    "collapsed": false
   },
   "outputs": [],
   "source": [
    "%trim matrix to include only residues for which we have ranks\n",
    "matrix_res = seq_table.pdb_resSeq;\n",
    "keep = find(ismember(matrix_res, pdb_res));\n",
    "trace_matrix = adj_matrix(keep,keep);"
   ]
  },
  {
   "cell_type": "code",
   "execution_count": null,
   "metadata": {
    "collapsed": false
   },
   "outputs": [],
   "source": [
    "% Calculate clustering z-score\n",
    "% Calculate expected clustering table\n",
    "% z-score code only needs half the matrix (off diagonal)\n",
    "lower_trig = trace_matrix;\n",
    "lower_trig = tril(trace_matrix, -1);\n",
    "exp_table = calc_expected_clust(lower_trig);\n",
    "% calculate clustering z-score\n",
    "clust_z = calc_clust_z_score(lower_trig, result_table, exp_table);"
   ]
  },
  {
   "cell_type": "code",
   "execution_count": null,
   "metadata": {
    "collapsed": false
   },
   "outputs": [],
   "source": [
    "clust_z"
   ]
  },
  {
   "cell_type": "code",
   "execution_count": null,
   "metadata": {
    "collapsed": false
   },
   "outputs": [],
   "source": [
    "hold on;\n",
    "plot(clust_z.cov_bin, clust_z.obs_clust_weight, 'red', 'LineWidth', 1);\n",
    "plot(clust_z.cov_bin, clust_z.exp_clust_weight, 'black', 'LineWidth', 1);\n",
    "title('Number of observed contact pairs exceeds random expected')\n",
    "box on;\n",
    "xlabel('fraction top residues selected (coverage)')\n",
    "ylabel('contact pairs formed by residues')\n",
    "legend('observed', 'expected', 'Location', 'NorthWest')\n",
    "hold off;"
   ]
  },
  {
   "cell_type": "code",
   "execution_count": null,
   "metadata": {
    "collapsed": false
   },
   "outputs": [],
   "source": [
    "plot(clust_z.cov_bin, clust_z.z_score, 'black', 'LineWidth', 1);\n",
    "title({'Number of observed contact pairs exceeds random expected\\\\n',...\n",
    "       '(top-ranked residues cluster together)'})\n",
    "xlabel('fraction top residues selected (coverage)')\n",
    "ylabel('clustering z-score')"
   ]
  },
  {
   "cell_type": "markdown",
   "metadata": {},
   "source": [
    "### Measure overlap of top residues with known functional sites\n",
    "Pattern 3: clusters define functional sites"
   ]
  },
  {
   "cell_type": "code",
   "execution_count": null,
   "metadata": {
    "collapsed": false
   },
   "outputs": [],
   "source": [
    "% Calculate overlap z-scores\n",
    "% access active sites (pdb labels of active residues)\n",
    "fs_fp = 'input_data/3Q1Q_RF00010_functional_site_COMMENTS.txt';\n",
    "fs = importdata(fs_fp);\n",
    "fs = fs.data;\n",
    "% find these residues in the trace residue list\n",
    "trace_fs = find(ismember(pdb_res, fs));\n",
    "% calculate overlap of top residues with known active sites\n",
    "olap_z = calc_overlap_z_score(result_table.coverage, trace_fs);"
   ]
  },
  {
   "cell_type": "code",
   "execution_count": null,
   "metadata": {
    "collapsed": false
   },
   "outputs": [],
   "source": [
    "olap_z"
   ]
  },
  {
   "cell_type": "code",
   "execution_count": null,
   "metadata": {
    "collapsed": false
   },
   "outputs": [],
   "source": [
    "hold on;\n",
    "plot(olap_z.cov_bin, olap_z.observed, 'red', 'LineWidth', 1);\n",
    "plot(olap_z.cov_bin, olap_z.expected, 'black', 'LineWidth', 1);\n",
    "title('Number of known functional residues in selection exceeds random expectate')\n",
    "xlabel('fraction top residues selected (coverage)')\n",
    "ylabel('number of functional residues in selection')\n",
    "legend('observed', 'expected', 'Location', 'NorthWest')\n",
    "hold off;"
   ]
  },
  {
   "cell_type": "code",
   "execution_count": null,
   "metadata": {
    "collapsed": false
   },
   "outputs": [],
   "source": [
    "plot(olap_z.cov_bin, olap_z.z_score, 'black', 'LineWidth', 1);\n",
    "title('Number of known functional residues in selection exceeds random expectated');\n",
    "xlabel('fraction top residues selected (coverage)');\n",
    "ylabel('overlap z-score');\n",
    "ylabel('clustering z-score');"
   ]
  },
  {
   "cell_type": "code",
   "execution_count": null,
   "metadata": {
    "collapsed": false
   },
   "outputs": [],
   "source": [
    "% calculate accuracy in form of ROC AUC\n",
    "labels = zeros(height(result_table),1);\n",
    "labels(1:10) = 1;\n",
    "[x,y,~,auc] = perfcurve(labels, result_table.coverage, 1);\n",
    "box on;\n",
    "hold on;\n",
    "plot(x, y, 'Color', 'red', 'LineWidth', 1);\n",
    "plot([0 1],[0,1],'Color', 'black', 'LineWidth', 1);\n",
    "legend('entropy ranks', 'random', 'Location', 'NorthWest');\n",
    "title('Entropy ranks are predictive of known functional sites');\n",
    "xlabel('FPR');\n",
    "ylabel('TPR');\n",
    "hold off;\n"
   ]
  },
  {
   "cell_type": "code",
   "execution_count": null,
   "metadata": {
    "collapsed": false
   },
   "outputs": [],
   "source": [
    "% export data\n",
    "fp = 'data/rnasep_sample_ranks.csv';\n",
    "writetable(olap_z, 'results/clust_rnase_p.csv');\n",
    "writetable(clust_z, 'results/clust_rnase_p.csv');"
   ]
  },
  {
   "cell_type": "markdown",
   "metadata": {},
   "source": [
    "### Summary, 3 patterns:\n",
    "\n",
    "1. Residues can be ranked based on their evolutionary history, ranks are different\n",
    "2. Top-ranked residues co-locolize and form clusters\n",
    "3. Clusters overlap functional sites<br>\n",
    "<br>\n",
    "4. Did not show today: clustering is predictive of accuracy - tigheter clusters better predict the functional site. CAN OPTIMIZE ALIGNMENTS FOR BETTER PREDICTION.\n",
    "\n",
    "### Actionable recommendation to wet-lab scientists:\n",
    "1. If desiring to study existing sites, focus on the highest ranked residues.\n",
    "2. If want to focus on novel sites, exclude known sites from analysis, and focus on the highest remaining residues.\n"
   ]
  },
  {
   "cell_type": "markdown",
   "metadata": {},
   "source": [
    "### Optimize alignment\n",
    "\n",
    "1. Generate ensemble of alignments\n",
    "2. Measure clustering and accuracy for each alignment\n",
    "3. Plot clustering vs accuracy <-- should be a strong postive correlation"
   ]
  },
  {
   "cell_type": "code",
   "execution_count": null,
   "metadata": {
    "collapsed": true
   },
   "outputs": [],
   "source": [
    "% code here"
   ]
  }
 ],
 "metadata": {
  "kernelspec": {
   "display_name": "Matlab",
   "language": "matlab",
   "name": "matlab"
  },
  "language_info": {
   "codemirror_mode": "octave",
   "file_extension": ".m",
   "help_links": [
    {
     "text": "MetaKernel Magics",
     "url": "https://metakernel.readthedocs.io/en/latest/source/README.html"
    }
   ],
   "mimetype": "text/x-octave",
   "name": "matlab",
   "version": "0.16.7"
  }
 },
 "nbformat": 4,
 "nbformat_minor": 2
}
